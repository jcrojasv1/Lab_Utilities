{
 "cells": [
  {
   "cell_type": "code",
   "execution_count": 7,
   "id": "b0f1bade",
   "metadata": {},
   "outputs": [
    {
     "data": {
      "text/plain": [
       "(2.763157894736842, 0.5502270148591835)"
      ]
     },
     "execution_count": 7,
     "metadata": {},
     "output_type": "execute_result"
    }
   ],
   "source": [
    "import sympy as sym\n",
    "import numpy as np\n",
    "import matplotlib.pyplot as plt\n",
    "\n",
    "#Cálculo de la propagación de errores\n",
    "\n",
    "#Definición de variables:\n",
    "\n",
    "variables= \"D C\"\n",
    "incetidumbres = [0.09e3,0]\n",
    "mediciones = [2.48e3,2e-6]\n",
    "\n",
    "#Definición de la expresión a la que propagar el error:\n",
    "\n",
    "\n",
    "\n",
    "\n",
    "###################################################################################################################################################\n",
    "\n",
    "var = sym.symbols(variables)\n",
    "exp = 1/(v[0]*v[1])   #Expresión\n",
    "prop = 0\n",
    "\n",
    "for i in range(len(var)):\n",
    "    prop += exp.diff(var[i])**2 * incetidumbres[i]**2\n",
    "\n",
    "sigma = sym.sqrt(prop)\n",
    "\n",
    "sigma = sym.lambdify(var,sigma)\n",
    "mean = sym.lambdify(var,exp)\n",
    "\n",
    "mean(2.5,3.8,4.2),sigma(2.5,3.8,4.2)"
   ]
  }
 ],
 "metadata": {
  "kernelspec": {
   "display_name": "Python 3 (ipykernel)",
   "language": "python",
   "name": "python3"
  },
  "language_info": {
   "codemirror_mode": {
    "name": "ipython",
    "version": 3
   },
   "file_extension": ".py",
   "mimetype": "text/x-python",
   "name": "python",
   "nbconvert_exporter": "python",
   "pygments_lexer": "ipython3",
   "version": "3.11.4"
  }
 },
 "nbformat": 4,
 "nbformat_minor": 5
}
