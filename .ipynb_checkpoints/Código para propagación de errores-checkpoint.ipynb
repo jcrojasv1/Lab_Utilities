{
 "cells": [
  {
   "cell_type": "code",
   "execution_count": 5,
   "id": "b0f1bade",
   "metadata": {},
   "outputs": [
    {
     "data": {
      "text/plain": [
       "(0.10526315789473684, 3.789473684210526)"
      ]
     },
     "execution_count": 5,
     "metadata": {},
     "output_type": "execute_result"
    }
   ],
   "source": [
    "import sympy as sym\n",
    "import numpy as np\n",
    "import matplotlib.pyplot as plt\n",
    "\n",
    "#Cálculo de la propagación de errores.\n",
    "\n",
    "#Definición de variables:\n",
    "variables= \"D C\"\n",
    "var = sym.symbols(variables)\n",
    "\n",
    "#Mediciones experimentales.\n",
    "incetidumbres = [0.09e3,0]\n",
    "\n",
    "#Incertidumbre de las mediciones.\n",
    "mediciones = [2.48e3,2e-6]\n",
    "\n",
    "#Definición de la expresión a la que propagar el error:\n",
    "\n",
    "exp = 1/(var[0]*var[1]) #Expresión\n",
    "\n",
    "\n",
    "###################################################################################################################################################\n",
    "#Sección de las derivadas parciales\n",
    "\n",
    "prop = 0\n",
    "for i in range(len(var)):\n",
    "    prop += exp.diff(var[i])**2 * incetidumbres[i]**2\n",
    "\n",
    "sigma = sym.sqrt(prop)\n",
    "\n",
    "#Sección para soltar el valor calculado y la incertidumbre del valor calculado. \n",
    "\n",
    "sigma = sym.lambdify(var,sigma)\n",
    "mean = sym.lambdify(var,exp)\n",
    "\n",
    "mean(2.5,3.8),sigma(2.5,3.8)"
   ]
  }
 ],
 "metadata": {
  "kernelspec": {
   "display_name": "Python 3 (ipykernel)",
   "language": "python",
   "name": "python3"
  },
  "language_info": {
   "codemirror_mode": {
    "name": "ipython",
    "version": 3
   },
   "file_extension": ".py",
   "mimetype": "text/x-python",
   "name": "python",
   "nbconvert_exporter": "python",
   "pygments_lexer": "ipython3",
   "version": "3.9.13"
  }
 },
 "nbformat": 4,
 "nbformat_minor": 5
}
